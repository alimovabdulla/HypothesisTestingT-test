{
 "cells": [
  {
   "cell_type": "code",
   "execution_count": null,
   "metadata": {},
   "outputs": [],
   "source": [
    "#Paketlerimizi import edirik\n",
    "import numpy as np\n",
    "from scipy import stats"
   ]
  },
  {
   "cell_type": "code",
   "execution_count": 3,
   "metadata": {},
   "outputs": [],
   "source": [
    "# İki fərqli nümunə məlumatları (nümunə 1 və nümunə 2)\n",
    "sample1 = [23, 21, 19, 24, 25, 22, 20, 23, 22, 21]\n",
    "sample2 = [30, 28, 29, 32, 31, 30, 29, 33, 31, 30]"
   ]
  },
  {
   "cell_type": "code",
   "execution_count": 5,
   "metadata": {},
   "outputs": [],
   "source": [
    "#T-testin icrasi\n",
    "t_stat, p_value = stats.ttest_ind(sample1,sample2)"
   ]
  },
  {
   "cell_type": "code",
   "execution_count": 6,
   "metadata": {},
   "outputs": [
    {
     "name": "stdout",
     "output_type": "stream",
     "text": [
      "T-statistics: -11.12449958505838 | P-value: 1.691513200661755e-09\n"
     ]
    }
   ],
   "source": [
    "#Nəticələri çap edək\n",
    "print(f\"T-statistics: {t_stat} | P-value: {p_value}\")"
   ]
  },
  {
   "cell_type": "code",
   "execution_count": 7,
   "metadata": {},
   "outputs": [
    {
     "name": "stdout",
     "output_type": "stream",
     "text": [
      "Null hipotezini rədd edirik. Alternativ hipotezi qəbul edirik.\n"
     ]
    }
   ],
   "source": [
    "# P-dəyərini qiymətləndirmək və nəticəni şərh etmək\n",
    "alpha = 0.05  # Səhv dərəcəsi (α)\n",
    "\n",
    "if p_value < alpha:\n",
    "    print(\"Null hipotezini rədd edirik. Alternativ hipotezi qəbul edirik.\")\n",
    "else:\n",
    "    print(\"Null hipotezini qəbul edirik.\")"
   ]
  },
  {
   "cell_type": "code",
   "execution_count": null,
   "metadata": {},
   "outputs": [],
   "source": []
  }
 ],
 "metadata": {
  "kernelspec": {
   "display_name": "Ders",
   "language": "python",
   "name": "python3"
  },
  "language_info": {
   "codemirror_mode": {
    "name": "ipython",
    "version": 3
   },
   "file_extension": ".py",
   "mimetype": "text/x-python",
   "name": "python",
   "nbconvert_exporter": "python",
   "pygments_lexer": "ipython3",
   "version": "3.12.3"
  }
 },
 "nbformat": 4,
 "nbformat_minor": 2
}
